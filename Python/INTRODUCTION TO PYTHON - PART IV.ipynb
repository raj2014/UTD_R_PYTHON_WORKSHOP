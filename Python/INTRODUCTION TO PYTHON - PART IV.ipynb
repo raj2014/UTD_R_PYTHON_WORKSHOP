{
 "cells": [
  {
   "cell_type": "markdown",
   "metadata": {},
   "source": [
    "### INTRODUCTION TO PYTHON - PART IV\n",
    "### This tutorial was developed as a part of the CS Outreach Professional workshop series.If you have any comments on this file,please feel free to mail me at rxj133030@utdallas.edu"
   ]
  },
  {
   "cell_type": "code",
   "execution_count": 8,
   "metadata": {
    "collapsed": false
   },
   "outputs": [
    {
     "name": "stdout",
     "output_type": "stream",
     "text": [
      "2.2360679775\n",
      "1.0\n",
      "(1,2)\n"
     ]
    }
   ],
   "source": [
    "# Object Oriented Programming\n",
    "import math\n",
    "class Point:\n",
    "    \"Point Class to structure two dimensional data.(2D points)\"\n",
    "    def __init__(self, x=0, y=0):\n",
    "        self.x = x\n",
    "        self.y = y\n",
    "        \n",
    "    def distancetoOrigin(self):\n",
    "        return math.sqrt(self.x*self.x+self.y*self.y)\n",
    "    \n",
    "    def distancetoTarget(self,target):\n",
    "        return math.sqrt(((self.x-target.x)*(self.x-target.x))\n",
    "                         +((self.y-target.y)*(self.y-target.y)))\n",
    "    def __str__(self):\n",
    "        return \"(\"+str(self.x)+\",\"+str(self.y)+\")\"\n",
    "p=Point(1,2)\n",
    "print p.distancetoOrigin()\n",
    "target=Point(2,2)\n",
    "print p.distancetoTarget(target)\n",
    "print p"
   ]
  },
  {
   "cell_type": "code",
   "execution_count": 18,
   "metadata": {
    "collapsed": false
   },
   "outputs": [
    {
     "name": "stdout",
     "output_type": "stream",
     "text": [
      "John\tMale\tTX\n",
      "Jessica\tFemale\tTX\n",
      "TX\n"
     ]
    }
   ],
   "source": [
    "class Person:\n",
    "    \"Person to structure information(Name,gender,Age,Income) about the person,Assumption all are from Texas\"\n",
    "    \n",
    "    location=\"TX\" # *****static variable*****\n",
    "    \n",
    "    def __init__(self,name,gender,age,income):\n",
    "        self.name=name\n",
    "        self.gender=gender\n",
    "        self.age=age\n",
    "        self.income=income\n",
    "        \n",
    "    def __str__(self):\n",
    "        return self.name+\"\\t\"+self.gender+\"\\t\"+Person.location # *****static variable*****\n",
    "    \n",
    "    # *** static method *****\n",
    "    @staticmethod\n",
    "    def getLocation():        \n",
    "        return Person.location\n",
    "    \n",
    "p=Person(\"John\",\"Male\",35,30000)\n",
    "print p\n",
    "j=Person(\"Jessica\",\"Female\",25,25000)\n",
    "print j\n",
    "print Person.getLocation()"
   ]
  },
  {
   "cell_type": "code",
   "execution_count": null,
   "metadata": {
    "collapsed": true
   },
   "outputs": [],
   "source": [
    "### Program1 : Implement vector multiplication in the Point Class\n",
    "### Program2 : Implement __str__ to include all information separated by tabs"
   ]
  }
 ],
 "metadata": {
  "kernelspec": {
   "display_name": "Python 2",
   "language": "python",
   "name": "python2"
  },
  "language_info": {
   "codemirror_mode": {
    "name": "ipython",
    "version": 2
   },
   "file_extension": ".py",
   "mimetype": "text/x-python",
   "name": "python",
   "nbconvert_exporter": "python",
   "pygments_lexer": "ipython2",
   "version": "2.7.10"
  }
 },
 "nbformat": 4,
 "nbformat_minor": 0
}
