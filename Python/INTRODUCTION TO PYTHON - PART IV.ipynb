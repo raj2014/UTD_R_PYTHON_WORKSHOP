{
 "cells": [
  {
   "cell_type": "markdown",
   "metadata": {},
   "source": [
    "### INTRODUCTION TO PYTHON - PART IV\n",
    "### This tutorial was developed as a part of the CS Outreach Professional workshop series.If you have any comments on this file,please feel free to mail me at rxj133030@utdallas.edu"
   ]
  },
  {
   "cell_type": "code",
   "execution_count": 8,
   "metadata": {
    "collapsed": false
   },
   "outputs": [
    {
     "name": "stdout",
     "output_type": "stream",
     "text": [
      "2.2360679775\n",
      "1.0\n",
      "(1,2)\n"
     ]
    }
   ],
   "source": [
    "# Object Oriented Programming\n",
    "import math\n",
    "class Point:\n",
    "    \"Point Class to structure two dimensional data.(2D points)\"\n",
    "    def __init__(self, x=0, y=0):\n",
    "        self.x = x\n",
    "        self.y = y\n",
    "        \n",
    "    def distancetoOrigin(self):\n",
    "        return math.sqrt(self.x*self.x+self.y*self.y)\n",
    "    \n",
    "    def distancetoTarget(self,target):\n",
    "        return math.sqrt(((self.x-target.x)*(self.x-target.x))\n",
    "                         +((self.y-target.y)*(self.y-target.y)))\n",
    "    def __str__(self):\n",
    "        return \"(\"+str(self.x)+\",\"+str(self.y)+\")\"\n",
    "p=Point(1,2)\n",
    "print p.distancetoOrigin()\n",
    "target=Point(2,2)\n",
    "print p.distancetoTarget(target)\n",
    "print p"
   ]
  },
  {
   "cell_type": "code",
   "execution_count": 18,
   "metadata": {
    "collapsed": false
   },
   "outputs": [
    {
     "name": "stdout",
     "output_type": "stream",
     "text": [
      "John\tMale\tTX\n",
      "Jessica\tFemale\tTX\n",
      "TX\n"
     ]
    }
   ],
   "source": [
    "class Person:\n",
    "    \"Person to structure information(Name,gender,Age,Income) about the person,Assumption all are from Texas\"\n",
    "    \n",
    "    location=\"TX\" # *****static variable*****\n",
    "    \n",
    "    def __init__(self,name,gender,age,income):\n",
    "        self.name=name\n",
    "        self.gender=gender\n",
    "        self.age=age\n",
    "        self.income=income\n",
    "        \n",
    "    def __str__(self):\n",
    "        return self.name+\"\\t\"+self.gender+\"\\t\"+Person.location # *****static variable*****\n",
    "    \n",
    "    # *** static method *****\n",
    "    @staticmethod\n",
    "    def getLocation():        \n",
    "        return Person.location\n",
    "    \n",
    "p=Person(\"John\",\"Male\",35,30000)\n",
    "print p\n",
    "j=Person(\"Jessica\",\"Female\",25,25000)\n",
    "print j\n",
    "print Person.getLocation()"
   ]
  },
  {
   "cell_type": "code",
   "execution_count": null,
   "metadata": {
    "collapsed": true
   },
   "outputs": [],
   "source": [
    "### Program1 : Implement vector multiplication in the Point Class\n",
    "### Program2 : Implement __str__ to include all information separated by tabs"
   ]
  },
  {
   "cell_type": "code",
   "execution_count": 2,
   "metadata": {
    "collapsed": false
   },
   "outputs": [
    {
     "name": "stdout",
     "output_type": "stream",
     "text": [
      "1\n",
      "2\n",
      "3\n",
      "4\n"
     ]
    }
   ],
   "source": [
    "### Building a LinkedList \n",
    "#LinkedList Usage \n",
    "class Node:\n",
    "    def __init__(self, data=None, next=None):\n",
    "        self.data = data\n",
    "        self.next  = next\n",
    "\n",
    "    def __str__(self):\n",
    "        return str(self.data)\n",
    "    \n",
    "    def append(self,next=None):\n",
    "        self.next=next\n",
    "        \n",
    "# main routine\n",
    "        \n",
    "n1=Node(1)\n",
    "n2=Node(2)\n",
    "n3=Node(3)\n",
    "n4=Node(4)\n",
    "n1.append(n2)\n",
    "n2.append(n3)\n",
    "n3.append(n4)\n",
    "while n1 is not None:\n",
    "    print n1\n",
    "    n1=n1.next"
   ]
  },
  {
   "cell_type": "code",
   "execution_count": 3,
   "metadata": {
    "collapsed": true
   },
   "outputs": [],
   "source": [
    "# Building a tree\n",
    "#Tree structures\n",
    "class Tree:\n",
    "    def __init__(self, cargo, left=None, right=None):\n",
    "        self.cargo = cargo\n",
    "        self.left  = left\n",
    "        self.right = right\n",
    "\n",
    "    def __str__(self):\n",
    "        return str(self.cargo)"
   ]
  },
  {
   "cell_type": "code",
   "execution_count": 11,
   "metadata": {
    "collapsed": false
   },
   "outputs": [
    {
     "data": {
      "text/plain": [
       "['A', 'C', 'B', 'F', 'E', 'D']"
      ]
     },
     "execution_count": 11,
     "metadata": {},
     "output_type": "execute_result"
    }
   ],
   "source": [
    "# Graph Structure\n",
    "# BFS\n",
    "graph = {'A': set(['B', 'C']),\n",
    "         'B': set(['A', 'D', 'E']),\n",
    "         'C': set(['A', 'F']),\n",
    "         'D': set(['B']),\n",
    "         'E': set(['B', 'F']),\n",
    "         'F': set(['C', 'E'])}\n",
    "\n",
    "#Breadth first Search\n",
    "def bfs(graph, start):\n",
    "    visited, queue = set(), [start]\n",
    "    visit_order=[] # to track the traversing order\n",
    "    while queue:\n",
    "        vertex = queue.pop(0)\n",
    "        if vertex not in visited:\n",
    "            visit_order.append(vertex)\n",
    "            visited.add(vertex)\n",
    "            queue.extend(graph[vertex] - visited)\n",
    "    return visit_order\n",
    "\n",
    "bfs(graph, 'A') # {'B', 'C', 'A', 'F', 'D', 'E'}"
   ]
  },
  {
   "cell_type": "code",
   "execution_count": 12,
   "metadata": {
    "collapsed": false
   },
   "outputs": [
    {
     "data": {
      "text/plain": [
       "['A', 'B', 'D', 'E', 'F', 'C']"
      ]
     },
     "execution_count": 12,
     "metadata": {},
     "output_type": "execute_result"
    }
   ],
   "source": [
    "#Graph Structure\n",
    "# DFS\n",
    "graph = {'A': set(['B', 'C']),\n",
    "         'B': set(['A', 'D', 'E']),\n",
    "         'C': set(['A', 'F']),\n",
    "         'D': set(['B']),\n",
    "         'E': set(['B', 'F']),\n",
    "         'F': set(['C', 'E'])}\n",
    "\n",
    "#Breadth first Search\n",
    "def dfs(graph, start):\n",
    "    visited, queue = set(), [start]\n",
    "    visit_order=[] # to track the traversing order\n",
    "    while queue:\n",
    "        vertex = queue.pop()\n",
    "        if vertex not in visited:\n",
    "            visit_order.append(vertex)\n",
    "            visited.add(vertex)\n",
    "            queue.extend(graph[vertex] - visited)\n",
    "    return visit_order\n",
    "\n",
    "dfs(graph, 'A') # {'B', 'C', 'A', 'F', 'D', 'E'}"
   ]
  },
  {
   "cell_type": "code",
   "execution_count": 17,
   "metadata": {
    "collapsed": false
   },
   "outputs": [
    {
     "name": "stdout",
     "output_type": "stream",
     "text": [
      "[25, 441, 9, 3136, 729, 1296, 2116]\n",
      "[56, 36, 46]\n",
      "194\n"
     ]
    }
   ],
   "source": [
    "# Elegant and simple way to code\n",
    "\n",
    "# Lambda functions\n",
    "\n",
    "# Anonymous in nature,mainly meant for one time usage\n",
    "\n",
    "input_list = [5,21,3,56,27,36,46]\n",
    "\n",
    "## print map(myfunc,input_list)\n",
    "\n",
    "print map(lambda x: x * x ,input_list)\n",
    "\n",
    "print filter(lambda x: x % 2 == 0, input_list)\n",
    "\n",
    "print reduce(lambda x,y: x + y,input_list)\n",
    "\n",
    " "
   ]
  },
  {
   "cell_type": "code",
   "execution_count": 21,
   "metadata": {
    "collapsed": false
   },
   "outputs": [
    {
     "name": "stdout",
     "output_type": "stream",
     "text": [
      "[15, 63, 9, 168, 81, 108, 138]\n",
      "------\n",
      "[(5, 5), (5, 21), (5, 3), (5, 56), (5, 27), (5, 36), (5, 46), (21, 5), (21, 21), (21, 3), (21, 56), (21, 27), (21, 36), (21, 46), (3, 5), (3, 21), (3, 3), (3, 56), (3, 27), (3, 36), (3, 46), (56, 5), (56, 21), (56, 3), (56, 56), (56, 27), (56, 36), (56, 46), (27, 5), (27, 21), (27, 3), (27, 56), (27, 27), (27, 36), (27, 46), (36, 5), (36, 21), (36, 3), (36, 56), (36, 27), (36, 36), (36, 46), (46, 5), (46, 21), (46, 3), (46, 56), (46, 27), (46, 36), (46, 46)]\n",
      "------\n",
      "[10, 26, 8, 61, 32, 41, 51, 26, 42, 24, 77, 48, 57, 67, 8, 24, 6, 59, 30, 39, 49, 61, 77, 59, 112, 83, 92, 102, 32, 48, 30, 83, 54, 63, 73, 41, 57, 39, 92, 63, 72, 82, 51, 67, 49, 102, 73, 82, 92]\n"
     ]
    }
   ],
   "source": [
    "# Loop comprehension\n",
    "print [x*3 for x in input_list]\n",
    "\n",
    "print \"------\"\n",
    "\n",
    "# function to print all the pairs\n",
    "print [(x,y) for x in input_list for y in input_list]\n",
    "\n",
    "print \"------\"\n",
    "\n",
    "# function to print all the pairs\n",
    "print [x+y for x in input_list for y in input_list]"
   ]
  },
  {
   "cell_type": "code",
   "execution_count": 26,
   "metadata": {
    "collapsed": false
   },
   "outputs": [
    {
     "name": "stdout",
     "output_type": "stream",
     "text": [
      "30\n"
     ]
    }
   ],
   "source": [
    "# functions can be passed as arguments\n",
    "\n",
    "def add(x,y):\n",
    "    return x+y\n",
    "\n",
    "def operation(f,x,y):\n",
    "    return f(x,y)\n",
    "\n",
    "print operation(add,10,20)"
   ]
  },
  {
   "cell_type": "code",
   "execution_count": 25,
   "metadata": {
    "collapsed": false
   },
   "outputs": [
    {
     "name": "stdout",
     "output_type": "stream",
     "text": [
      "11\n",
      "<function add_y at 0x00000000040647B8>\n",
      "101\n",
      "<function add_y at 0x00000000040644A8>\n"
     ]
    }
   ],
   "source": [
    "# Closure (Dynamic code and scope constraints) \n",
    "\n",
    "def base(x):\n",
    "    \n",
    "    def add_y(inc):\n",
    "        return x+inc\n",
    "    return add_y\n",
    "\n",
    "f=base(10)\n",
    "print f(1)\n",
    "print f\n",
    "\n",
    "f=base(100)\n",
    "print f(1)\n",
    "print f"
   ]
  },
  {
   "cell_type": "code",
   "execution_count": null,
   "metadata": {
    "collapsed": true
   },
   "outputs": [],
   "source": []
  }
 ],
 "metadata": {
  "kernelspec": {
   "display_name": "Python 2",
   "language": "python",
   "name": "python2"
  },
  "language_info": {
   "codemirror_mode": {
    "name": "ipython",
    "version": 2
   },
   "file_extension": ".py",
   "mimetype": "text/x-python",
   "name": "python",
   "nbconvert_exporter": "python",
   "pygments_lexer": "ipython2",
   "version": "2.7.11"
  }
 },
 "nbformat": 4,
 "nbformat_minor": 0
}
