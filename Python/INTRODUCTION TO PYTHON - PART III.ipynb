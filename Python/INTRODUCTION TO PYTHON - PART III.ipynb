{
 "cells": [
  {
   "cell_type": "markdown",
   "metadata": {},
   "source": [
    "###  Programmming Level II\n",
    "### This tutorial was developed as a part of the CS Outreach Professional workshop series.If you have any comments on this file,please feel free to mail me at rxj133030@utdallas.edu"
   ]
  },
  {
   "cell_type": "code",
   "execution_count": null,
   "metadata": {
    "collapsed": true
   },
   "outputs": [],
   "source": [
    "# Check if an integer(sum)can be produced from any pairs of numbers from the input.\n",
    "# Program - I\n",
    "# input : [1,2,3,4] , Sum= 5   Ouput : Yes\n",
    "# input : [1,2,3,4] , Sum= 15   Ouput : No\n"
   ]
  },
  {
   "cell_type": "code",
   "execution_count": null,
   "metadata": {
    "collapsed": true
   },
   "outputs": [],
   "source": [
    "# Sort the given input according to the custom key rather than the direct values.\n",
    "# Program - II\n",
    "# input : [\"John Albert\",\"Kristen Roberts\",\"Samuel Jackson\",\"Steven Smith\"] \n",
    "# sort according to the lastname\n",
    "# output : [\"John Albert\",,\"Samuel Jackson\",\"Kristen Roberts\",\"Steven Smith\"]\n"
   ]
  }
 ],
 "metadata": {
  "kernelspec": {
   "display_name": "Python 2",
   "language": "python",
   "name": "python2"
  },
  "language_info": {
   "codemirror_mode": {
    "name": "ipython",
    "version": 2
   },
   "file_extension": ".py",
   "mimetype": "text/x-python",
   "name": "python",
   "nbconvert_exporter": "python",
   "pygments_lexer": "ipython2",
   "version": "2.7.10"
  }
 },
 "nbformat": 4,
 "nbformat_minor": 0
}
