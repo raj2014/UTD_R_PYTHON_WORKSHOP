{
 "cells": [
  {
   "cell_type": "markdown",
   "metadata": {},
   "source": [
    "###  Programmming Level II\n",
    "### This tutorial was developed as a part of the CS Outreach Professional workshop series.If you have any comments on this file,please feel free to mail me at rxj133030@utdallas.edu"
   ]
  },
  {
   "cell_type": "code",
   "execution_count": 5,
   "metadata": {
    "collapsed": false
   },
   "outputs": [
    {
     "name": "stdout",
     "output_type": "stream",
     "text": [
      "False\n"
     ]
    }
   ],
   "source": [
    "# Check if an integer(sum)can be produced from any pairs of numbers from the input.\n",
    "# Program - I\n",
    "# input : [1,2,3,4] , Sum= 5  3+2  Ouput : Yes \n",
    "# input : [1,2,3,4] , Sum= 15   ? Ouput : No\n",
    "\n",
    "def getSum(l,sum):\n",
    "    dict={}\n",
    "    for i in l:\n",
    "        if i in dict:\n",
    "            return True\n",
    "        else:\n",
    "            dict[sum-i]=1\n",
    "    return False\n",
    "print getSum([1,2,3,4],15)\n",
    "\n"
   ]
  },
  {
   "cell_type": "code",
   "execution_count": 9,
   "metadata": {
    "collapsed": false
   },
   "outputs": [
    {
     "name": "stdout",
     "output_type": "stream",
     "text": [
      "['John Albert', 'Samuel Jackson', 'Kristen Roberts', 'Steven Smith']\n"
     ]
    }
   ],
   "source": [
    "# Sort the given input according to the custom key rather than the direct values.\n",
    "# Program - II\n",
    "# input : [\"John Albert\",\"Kristen Roberts\",\"Samuel Jackson\",\"Steven Smith\"] \n",
    "# sort according to the lastname\n",
    "# output : [\"John Albert\",,\"Samuel Jackson\",\"Kristen Roberts\",\"Steven Smith\"]\n",
    "\n",
    "input =[\"John Albert\",\"Kristen Roberts\",\"Samuel Jackson\",\"Steven Smith\"]\n",
    "def getlastname(x):\n",
    "    return x.split(\" \")[1]\n",
    "\n",
    "print sorted(input,key=getlastname)\n",
    "    \n"
   ]
  },
  {
   "cell_type": "markdown",
   "metadata": {
    "collapsed": true
   },
   "source": [
    "### Working with regular expressions"
   ]
  },
  {
   "cell_type": "code",
   "execution_count": 22,
   "metadata": {
    "collapsed": false
   },
   "outputs": [
    {
     "name": "stdout",
     "output_type": "stream",
     "text": [
      "found:  you got\n",
      "found:  you? Hop\n",
      "found:  9\n"
     ]
    }
   ],
   "source": [
    "import re\n",
    "\n",
    "# *** The search proceeds through the string from start to end, stopping at the first match found ***\n",
    "\n",
    "# \\w - matching a single lowercase character \n",
    "\n",
    "# For more information follow: https://developers.google.com/edu/python/regular-expressions\n",
    "\n",
    "str = 'Hello How are you? Hope you got 90 percentile in TEST!!'\n",
    "\n",
    "match = re.search(r'you \\w\\w\\w', str)\n",
    "if match:\n",
    "    print 'found: ',match.group()\n",
    "\n",
    "# How special characters should be matched\n",
    "match = re.search(r'you\\? \\w\\w\\w', str)\n",
    "if match:\n",
    "    print 'found: ',match.group()\n",
    "    \n",
    "#search for digits   \n",
    "match = re.search(r'\\d', str)\n",
    "if match:\n",
    "    print 'found: ',match.group()\n",
    "    \n",
    "\n"
   ]
  },
  {
   "cell_type": "markdown",
   "metadata": {},
   "source": [
    "### + -- 1 or more occurrences of the pattern to its left, e.g. 'i+' = one or more i's\n",
    "### * -- 0 or more occurrences of the pattern to its left\n",
    "### ? -- match 0 or 1 occurrences of the pattern to its left"
   ]
  },
  {
   "cell_type": "code",
   "execution_count": 27,
   "metadata": {
    "collapsed": false
   },
   "outputs": [
    {
     "name": "stdout",
     "output_type": "stream",
     "text": [
      "found:  90\n",
      "found:  you?\n",
      "found:  test!!\n",
      "found:  test!\n"
     ]
    }
   ],
   "source": [
    "match = re.search(r'\\d+', str)\n",
    "if match:\n",
    "    print 'found: ',match.group()\n",
    "    \n",
    "    \n",
    "match = re.search(r'\\w+\\?', str)\n",
    "if match:\n",
    "    print 'found: ',match.group() \n",
    "    \n",
    "    \n",
    "match = re.search(r'\\w+\\!!', str)\n",
    "if match:\n",
    "    print 'found: ',match.group()\n",
    "    \n",
    "    \n",
    "\n",
    "match = re.search(r'[a-zA-Z]!', str)\n",
    "if match:\n",
    "    print 'found: ',match.group()\n",
    "    \n",
    "\n",
    "match = re.search(r'[a-zA-Z]*!', str)\n",
    "if match:\n",
    "    print 'found: ',match.group()\n"
   ]
  },
  {
   "cell_type": "code",
   "execution_count": 32,
   "metadata": {
    "collapsed": false
   },
   "outputs": [
    {
     "name": "stdout",
     "output_type": "stream",
     "text": [
      "found:  abc@\n",
      "found:  xyz@\n",
      "found:  aplha@\n"
     ]
    }
   ],
   "source": [
    "# findAll\n",
    "# Trying to find the names in all email corpus\n",
    "str = 'abc@gmail.com xyz@gmail.com aplha@yahoo.com'\n",
    "match = re.findall(r'\\w+@', str)\n",
    "for item in match:\n",
    "    print 'found: ',item"
   ]
  },
  {
   "cell_type": "code",
   "execution_count": 33,
   "metadata": {
    "collapsed": false
   },
   "outputs": [
    {
     "name": "stdout",
     "output_type": "stream",
     "text": [
      "****gmail.com ****gmail.com ****yahoo.com\n"
     ]
    }
   ],
   "source": [
    "# *** Cleaning your text **\n",
    "# *** Encode the data *****\n",
    "encoded = re.sub(r'\\w+@', '****', str)\n",
    "print encoded"
   ]
  },
  {
   "cell_type": "code",
   "execution_count": null,
   "metadata": {
    "collapsed": true
   },
   "outputs": [],
   "source": [
    "### Program 1 : Regular Expressions\n",
    "#### Encode all the digits with \"*\"in a given string.\n",
    "#### Input  : \" X has got 12,300 salary ,his birth date was 09-03-1990.\"\n",
    "#### Output : \" X has got **,*** salary ,his birth date was **-**-****.\""
   ]
  }
 ],
 "metadata": {
  "kernelspec": {
   "display_name": "Python 2",
   "language": "python",
   "name": "python2"
  },
  "language_info": {
   "codemirror_mode": {
    "name": "ipython",
    "version": 2
   },
   "file_extension": ".py",
   "mimetype": "text/x-python",
   "name": "python",
   "nbconvert_exporter": "python",
   "pygments_lexer": "ipython2",
   "version": "2.7.10"
  }
 },
 "nbformat": 4,
 "nbformat_minor": 0
}
