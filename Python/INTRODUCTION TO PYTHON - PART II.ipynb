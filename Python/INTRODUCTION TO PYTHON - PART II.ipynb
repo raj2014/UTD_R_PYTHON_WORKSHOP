{
 "cells": [
  {
   "cell_type": "markdown",
   "metadata": {},
   "source": [
    "###  Programmming Level I\n",
    "### This tutorial was developed as a part of the CS Outreach Professional workshop series.If you have any comments on this file,please feel free to mail me at rxj133030@utdallas.edu"
   ]
  },
  {
   "cell_type": "code",
   "execution_count": 2,
   "metadata": {
    "collapsed": false
   },
   "outputs": [
    {
     "name": "stdout",
     "output_type": "stream",
     "text": [
      "[]\n"
     ]
    }
   ],
   "source": [
    "# Duplicates in the input\n",
    "# Program - 1\n",
    "def getDuplicates(l):\n",
    "    dict={}\n",
    "    duplicate_list=[]\n",
    "    for item in l:\n",
    "        if item in dict:\n",
    "            duplicate_list.append(item)\n",
    "        else:\n",
    "            dict[item]=1\n",
    "    return duplicate_list\n",
    "\n",
    "# Invoking the function\n",
    "print getDuplicates([1,2,3,9])\n",
    "            "
   ]
  },
  {
   "cell_type": "code",
   "execution_count": 5,
   "metadata": {
    "collapsed": false
   },
   "outputs": [
    {
     "name": "stdout",
     "output_type": "stream",
     "text": [
      "dcba\n"
     ]
    }
   ],
   "source": [
    "# Getting the string in reverse order\n",
    "\n",
    "# Program - 2\n",
    "def getReverse(s):\n",
    "    temp=\"\"\n",
    "    for i in range(len(s)-1,-1,-1):\n",
    "        temp=temp+s[i]\n",
    "    return temp\n",
    "\n",
    "#Invoking the function\n",
    "print getReverse(\"abcd\")"
   ]
  },
  {
   "cell_type": "code",
   "execution_count": 6,
   "metadata": {
    "collapsed": false
   },
   "outputs": [
    {
     "name": "stdout",
     "output_type": "stream",
     "text": [
      "120\n"
     ]
    }
   ],
   "source": [
    "# Factorial recursion\n",
    "\n",
    "# Program - 3\n",
    "def getfactorial(x):\n",
    "    if x==0:\n",
    "        return 1\n",
    "    else:\n",
    "        return x*getfactorial(x-1)\n",
    "    \n",
    "#Invoking the function\n",
    "print getfactorial(5)"
   ]
  },
  {
   "cell_type": "code",
   "execution_count": 9,
   "metadata": {
    "collapsed": false
   },
   "outputs": [
    {
     "name": "stdout",
     "output_type": "stream",
     "text": [
      "120\n"
     ]
    }
   ],
   "source": [
    "# Compute nCr : n!/(r!)*(n-r)!\n",
    "def getncr(n,r):\n",
    "    if n<r:\n",
    "        return 0 #Invalid input\n",
    "    else:\n",
    "        return getfactorial(n)/(getfactorial(r)*getfactorial(n-r))\n",
    "    \n",
    "# Inovking the function\n",
    "print getncr(10,3)"
   ]
  },
  {
   "cell_type": "code",
   "execution_count": 12,
   "metadata": {
    "collapsed": false
   },
   "outputs": [
    {
     "name": "stdout",
     "output_type": "stream",
     "text": [
      "[6, 9, 12]\n"
     ]
    }
   ],
   "source": [
    "# Compute the moving sum\n",
    "def getMovingSum(l,windowSize):\n",
    "    movingSum=[]\n",
    "    windowSize=windowSize-1 # to satisfy the logic\n",
    "    if len(l)<windowSize:\n",
    "        return \"Invalid Input\"\n",
    "    else:\n",
    "        for i in range(0,len(l)-1):\n",
    "            if i+windowSize<=len(l)-1:\n",
    "                movingSum.append(sum(l[i:i+windowSize+1]))\n",
    "    return movingSum\n",
    "# Invoking Sum\n",
    "print getMovingSum([1,2,3,4,5],3)"
   ]
  },
  {
   "cell_type": "code",
   "execution_count": null,
   "metadata": {
    "collapsed": true
   },
   "outputs": [],
   "source": [
    "# Program Assignment : Convert number to binary"
   ]
  }
 ],
 "metadata": {
  "kernelspec": {
   "display_name": "Python 2",
   "language": "python",
   "name": "python2"
  },
  "language_info": {
   "codemirror_mode": {
    "name": "ipython",
    "version": 2
   },
   "file_extension": ".py",
   "mimetype": "text/x-python",
   "name": "python",
   "nbconvert_exporter": "python",
   "pygments_lexer": "ipython2",
   "version": "2.7.10"
  }
 },
 "nbformat": 4,
 "nbformat_minor": 0
}
