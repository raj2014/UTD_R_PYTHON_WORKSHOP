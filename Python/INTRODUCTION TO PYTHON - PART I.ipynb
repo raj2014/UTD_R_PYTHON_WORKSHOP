{
 "cells": [
  {
   "cell_type": "markdown",
   "metadata": {},
   "source": [
    "### This tutorial was developed as a part of the CS Outreach Professional workshop series.If you have any comments on this file,please feel free to mail me at rxj133030@utdallas.edu"
   ]
  },
  {
   "cell_type": "code",
   "execution_count": 1,
   "metadata": {
    "collapsed": false
   },
   "outputs": [
    {
     "name": "stdout",
     "output_type": "stream",
     "text": [
      "Hello world\n"
     ]
    }
   ],
   "source": [
    "print \"Hello world\""
   ]
  },
  {
   "cell_type": "markdown",
   "metadata": {},
   "source": [
    "### Work with Numerical variables"
   ]
  },
  {
   "cell_type": "code",
   "execution_count": 11,
   "metadata": {
    "collapsed": false
   },
   "outputs": [
    {
     "name": "stdout",
     "output_type": "stream",
     "text": [
      "5\n",
      "3\n",
      "100\n",
      "14\n",
      "6\n",
      "5.25\n",
      "5.0\n",
      "10\n"
     ]
    }
   ],
   "source": [
    "# Working with numbers.\n",
    "a=10\n",
    "b=4\n",
    "print a/2\n",
    "print a%7\n",
    "print a*a\n",
    "print a+b\n",
    "print abs(b-a)\n",
    "a=10.5\n",
    "print a/2\n",
    "print a//2\n",
    "\n",
    "# Type casting\n",
    "print (int(a))"
   ]
  },
  {
   "cell_type": "code",
   "execution_count": 7,
   "metadata": {
    "collapsed": false
   },
   "outputs": [
    {
     "name": "stdout",
     "output_type": "stream",
     "text": [
      "Hello World\n",
      "Hello World\n"
     ]
    }
   ],
   "source": [
    "# Taking input from the keyboard\n",
    "s=raw_input()\n",
    "print s"
   ]
  },
  {
   "cell_type": "markdown",
   "metadata": {},
   "source": [
    "### Working with Strings"
   ]
  },
  {
   "cell_type": "code",
   "execution_count": 14,
   "metadata": {
    "collapsed": false
   },
   "outputs": [
    {
     "name": "stdout",
     "output_type": "stream",
     "text": [
      "Hey\n",
      "3\n",
      "Hey Hello\n"
     ]
    }
   ],
   "source": [
    "# Working with Strings\n",
    "s='Hey'\n",
    "print s\n",
    "print len(s)\n",
    "print s+\" \"+\"Hello\""
   ]
  },
  {
   "cell_type": "markdown",
   "metadata": {},
   "source": [
    "### Slicing Operations On Strings"
   ]
  },
  {
   "cell_type": "code",
   "execution_count": 44,
   "metadata": {
    "collapsed": false
   },
   "outputs": [
    {
     "name": "stdout",
     "output_type": "stream",
     "text": [
      "LowerCase:  hey! how are you doing?\n",
      "UpperCase:  HEY! HOW ARE YOU DOING?\n",
      "Strip whitespaces:  Hey! How are you doing?\n",
      "Check for alphabets:  False\n",
      "Check for digits:  False\n",
      "check for the index of first appearance:  0\n",
      "Replace :  Jey! Jow are you doing?\n",
      "Splitting:  ['Hey!', 'How', 'are', 'you', 'doing?']\n",
      "Hey_Hello\n"
     ]
    }
   ],
   "source": [
    "s=\"Hey! How are you doing?\"\n",
    "print \"LowerCase: \",s.lower()\n",
    "print \"UpperCase: \",s.upper()\n",
    "print \"Strip whitespaces: \",s.strip()\n",
    "print \"Check for alphabets: \",s.isalpha()\n",
    "print \"Check for digits: \",s.isdigit()\n",
    "print \"check for the index of first appearance: \",s.find(\"H\")\n",
    "print \"Replace : \",s.replace(\"H\",\"J\")\n",
    "print \"Splitting: \",s.split(\" \")\n",
    "# Joining string together\n",
    "print \"_\".join([\"Hey\",\"Hello\"])"
   ]
  },
  {
   "cell_type": "code",
   "execution_count": 45,
   "metadata": {
    "collapsed": false
   },
   "outputs": [
    {
     "ename": "TypeError",
     "evalue": "'str' object does not support item assignment",
     "output_type": "error",
     "traceback": [
      "\u001b[1;31m---------------------------------------------------------------------------\u001b[0m",
      "\u001b[1;31mTypeError\u001b[0m                                 Traceback (most recent call last)",
      "\u001b[1;32m<ipython-input-45-889a99e80229>\u001b[0m in \u001b[0;36m<module>\u001b[1;34m()\u001b[0m\n\u001b[0;32m      1\u001b[0m \u001b[1;31m# Immutable property\u001b[0m\u001b[1;33m\u001b[0m\u001b[1;33m\u001b[0m\u001b[0m\n\u001b[1;32m----> 2\u001b[1;33m \u001b[0ms\u001b[0m\u001b[1;33m[\u001b[0m\u001b[1;36m0\u001b[0m\u001b[1;33m]\u001b[0m\u001b[1;33m=\u001b[0m\u001b[1;34m'O'\u001b[0m\u001b[1;33m\u001b[0m\u001b[0m\n\u001b[0m",
      "\u001b[1;31mTypeError\u001b[0m: 'str' object does not support item assignment"
     ]
    }
   ],
   "source": [
    "# Immutable property\n",
    "s[0]='O'"
   ]
  },
  {
   "cell_type": "code",
   "execution_count": 26,
   "metadata": {
    "collapsed": false
   },
   "outputs": [
    {
     "name": "stdout",
     "output_type": "stream",
     "text": [
      "He\n",
      "ello\n",
      "Hello\n",
      "llo\n",
      "Hell\n"
     ]
    }
   ],
   "source": [
    "s=\"Hello\"\n",
    "print s[0:2]\n",
    "print s[1:]\n",
    "print s[:]\n",
    "print s[-2:]\n",
    "print s[:-1]"
   ]
  },
  {
   "cell_type": "markdown",
   "metadata": {},
   "source": [
    "### Control Structures"
   ]
  },
  {
   "cell_type": "code",
   "execution_count": 27,
   "metadata": {
    "collapsed": false
   },
   "outputs": [
    {
     "name": "stdout",
     "output_type": "stream",
     "text": [
      "less than 10\n",
      "Reminder is 1\n"
     ]
    }
   ],
   "source": [
    "# IF ELSE structure\n",
    "i=10\n",
    "if i>10:\n",
    "    print (\"greater than 10\")\n",
    "else:\n",
    "    print (\"less than 10\")\n",
    "    \n",
    "\n",
    "# Use of elif\n",
    "i=10\n",
    "if i%3==2:\n",
    "    print (\"Reminder is 2\")\n",
    "elif i%3==1:\n",
    "    print (\"Reminder is 1\")\n",
    "else:\n",
    "    print (\"Reminder is zero\")\n",
    "    "
   ]
  },
  {
   "cell_type": "markdown",
   "metadata": {},
   "source": [
    "### Working with Lists"
   ]
  },
  {
   "cell_type": "code",
   "execution_count": 28,
   "metadata": {
    "collapsed": false
   },
   "outputs": [
    {
     "name": "stdout",
     "output_type": "stream",
     "text": [
      "green\n",
      "red\n",
      "3\n"
     ]
    }
   ],
   "source": [
    "l=[]\n",
    "l=['green','yellow','red']\n",
    "print l[0]\n",
    "print l[2]\n",
    "print len(l)"
   ]
  },
  {
   "cell_type": "code",
   "execution_count": 29,
   "metadata": {
    "collapsed": false
   },
   "outputs": [
    {
     "name": "stdout",
     "output_type": "stream",
     "text": [
      "['green', 'yellow', 'red']\n"
     ]
    }
   ],
   "source": [
    "# Assignment operator \n",
    "colours=l\n",
    "colours=colours+['blue']\n",
    "print l"
   ]
  },
  {
   "cell_type": "code",
   "execution_count": 33,
   "metadata": {
    "collapsed": false
   },
   "outputs": [
    {
     "name": "stdout",
     "output_type": "stream",
     "text": [
      "['larry', 'curly', 'moe', 'shemp']\n",
      "['xxx', 'larry', 'curly', 'moe', 'shemp']\n",
      "['xxx', 'larry', 'curly', 'moe', 'shemp', 'yyy', 'zzz']\n",
      "2\n",
      "['xxx', 'larry', 'moe', 'shemp', 'yyy', 'zzz']\n",
      "['xxx', 'moe', 'shemp', 'yyy', 'zzz']\n",
      "['xxx', 'moe']\n"
     ]
    }
   ],
   "source": [
    "  # Operations on lists\n",
    "  # Taken from Google python class\n",
    "  import sys\n",
    "  list = ['larry', 'curly', 'moe']\n",
    "    \n",
    "  list.append('shemp')         ## append elem at end\n",
    "  print list\n",
    "    \n",
    "  list.insert(0, 'xxx')        ## insert elem at index 0\n",
    "  print list\n",
    "    \n",
    "  list.extend(['yyy', 'zzz'])  ## add list of elems at end\n",
    "  print list  ## ['xxx', 'larry', 'curly', 'moe', 'shemp', 'yyy', 'zzz']\n",
    "    \n",
    "  print list.index('curly')    ## 2\n",
    "\n",
    "  list.remove('curly')         ## search and remove that element\n",
    "  print list\n",
    "\n",
    "  list.pop(1)                  ## removes and returns 'larry'\n",
    "  print list  ## ['xxx', 'moe', 'shemp', 'yyy', 'zzz']\n",
    "\n",
    "  print list[:2]           # List Slicing operations"
   ]
  },
  {
   "cell_type": "markdown",
   "metadata": {},
   "source": [
    "###  Looping structures\n"
   ]
  },
  {
   "cell_type": "code",
   "execution_count": 34,
   "metadata": {
    "collapsed": false
   },
   "outputs": [
    {
     "name": "stdout",
     "output_type": "stream",
     "text": [
      "[1, 4, 9, 16]\n"
     ]
    }
   ],
   "source": [
    "# for loop\n",
    "list=[1,2,3,4]\n",
    "for i in range(0,len(list)):\n",
    "    list[i]=list[i]*list[i]\n",
    "print list"
   ]
  },
  {
   "cell_type": "code",
   "execution_count": 35,
   "metadata": {
    "collapsed": false
   },
   "outputs": [
    {
     "name": "stdout",
     "output_type": "stream",
     "text": [
      "1\n",
      "4\n",
      "9\n",
      "16\n"
     ]
    }
   ],
   "source": [
    "# Other way to access\n",
    "for i in list:\n",
    "    print i"
   ]
  },
  {
   "cell_type": "code",
   "execution_count": 37,
   "metadata": {
    "collapsed": false
   },
   "outputs": [
    {
     "name": "stdout",
     "output_type": "stream",
     "text": [
      "30\n"
     ]
    }
   ],
   "source": [
    "# Using while loop to get sum of elements\n",
    "sum=0\n",
    "i=0\n",
    "while(i<len(list)):\n",
    "    sum=sum+list[i]\n",
    "    i=i+1\n",
    "print sum"
   ]
  },
  {
   "cell_type": "markdown",
   "metadata": {},
   "source": [
    "### Sorting"
   ]
  },
  {
   "cell_type": "code",
   "execution_count": 39,
   "metadata": {
    "collapsed": false
   },
   "outputs": [
    {
     "name": "stdout",
     "output_type": "stream",
     "text": [
      "[4, 2, 7, 3]\n",
      "[2, 3, 4, 7]\n"
     ]
    }
   ],
   "source": [
    "l=[4,2,7,3]\n",
    "sorted (l)\n",
    "print l\n",
    "print sorted(l)\n"
   ]
  },
  {
   "cell_type": "code",
   "execution_count": 40,
   "metadata": {
    "collapsed": false
   },
   "outputs": [
    {
     "name": "stdout",
     "output_type": "stream",
     "text": [
      "['aaab', 'bm', 'ccx', 'd']\n",
      "['d', 'bm', 'ccx', 'aaab']\n"
     ]
    }
   ],
   "source": [
    "strs = ['ccx', 'aaab', 'd', 'bm']\n",
    "print sorted(strs)           ##['aaab', 'bm', 'ccx', 'd']\n",
    "\n",
    "# Custom sorting with key(different attribute of value)\n",
    "print sorted(strs, key=len)  ##['d', 'bm', 'ccx', 'aaab']"
   ]
  },
  {
   "cell_type": "code",
   "execution_count": 41,
   "metadata": {
    "collapsed": false
   },
   "outputs": [
    {
     "name": "stdout",
     "output_type": "stream",
     "text": [
      "['aaab', 'd', 'bm', 'ccx']\n"
     ]
    }
   ],
   "source": [
    "# Defining custom function\n",
    "def getLastCharacter(x):\n",
    "    return x[len(x)-1]\n",
    "print sorted(strs, key=getLastCharacter)  ##['aaab', 'd', 'bm', 'ccx']"
   ]
  },
  {
   "cell_type": "code",
   "execution_count": 42,
   "metadata": {
    "collapsed": false
   },
   "outputs": [
    {
     "name": "stdout",
     "output_type": "stream",
     "text": [
      "['aaab', 'bm', 'ccx', 'd']\n"
     ]
    }
   ],
   "source": [
    "strs.sort()\n",
    "print strs    #['aaab', 'bm', 'ccx', 'd']"
   ]
  },
  {
   "cell_type": "markdown",
   "metadata": {},
   "source": [
    "### Working with Tuples"
   ]
  },
  {
   "cell_type": "code",
   "execution_count": null,
   "metadata": {
    "collapsed": true
   },
   "outputs": [],
   "source": [
    "tuple = (1, 2, 'hi')\n",
    "print len(tuple)  ## 3\n",
    "print tuple[2]    ## hi\n",
    "# Immutable property\n",
    "tuple[2] = 'bye'  ## NO, tuples cannot be changed\n",
    "tuple = (1, 2, 'bye')  ## this works"
   ]
  },
  {
   "cell_type": "markdown",
   "metadata": {},
   "source": [
    "### Working with Dictionary"
   ]
  },
  {
   "cell_type": "code",
   "execution_count": 50,
   "metadata": {
    "collapsed": false
   },
   "outputs": [
    {
     "name": "stdout",
     "output_type": "stream",
     "text": [
      "{'a': 'alpha', 'b': 'beta', 'o': 'omega', 'g': 'gamma'}\n",
      "alpha\n",
      "alpha_new Value\n",
      "None\n",
      "{'a': 'alpha_new Value', 'b': 'beta', 'o': 'omega', 'g': 'gamma'}\n"
     ]
    }
   ],
   "source": [
    "## dict[key] = value-for-that-key\n",
    "dict = {}\n",
    "dict['a'] = 'alpha'\n",
    "dict['b'] = 'beta'\n",
    "dict['g'] = 'gamma'\n",
    "dict['o'] = 'omega'\n",
    "\n",
    "print dict  ## {'a': 'alpha', 'o': 'omega', 'g': 'gamma'}\n",
    "\n",
    "print dict['a']     ## Simple lookup, returns 'alpha'\n",
    "\n",
    "dict['a'] = dict['a']+ \"_\"+\"new Value\"      ## Put new key/value into dict\n",
    "print dict['a']\n",
    "\n",
    "'a' in dict         ## True\n",
    "## print dict['z']                  ## Throws KeyError\n",
    "\n",
    "if 'z' in dict: print dict['z']     ## Avoid KeyError\n",
    "\n",
    "print dict.get('z')  ## None (instead of KeyError)\n",
    "\n",
    "print dict"
   ]
  },
  {
   "cell_type": "code",
   "execution_count": 60,
   "metadata": {
    "collapsed": false
   },
   "outputs": [
    {
     "name": "stdout",
     "output_type": "stream",
     "text": [
      "a\n",
      "b\n",
      "o\n",
      "g\n",
      "a\n",
      "b\n",
      "o\n",
      "g\n",
      "['a', 'b', 'o', 'g']\n",
      "['alpha_new Value', 'beta', 'omega', 'gamma']\n",
      "a alpha_new Value\n",
      "b beta\n",
      "g gamma\n",
      "o omega\n",
      "[('a', 'alpha_new Value'), ('b', 'beta'), ('o', 'omega'), ('g', 'gamma')]\n"
     ]
    }
   ],
   "source": [
    "# More operations on Dictionary\n",
    "for key in dict: \n",
    "    print key ## prints a g o\n",
    " \n",
    "\n",
    "## Exactly the same as above\n",
    "for key in dict.keys(): \n",
    "    print key\n",
    "\n",
    "## Get the .keys() list:\n",
    "print dict.keys()  ## ['a', 'b', 'o', 'g']\n",
    "\n",
    "## Likewise, there's a .values() list of values\n",
    "print dict.values()  ## ['alpha_new Value', 'beta', 'omega', 'gamma']\n",
    "\n",
    "## Common case -- loop over the keys in sorted order,\n",
    "## accessing each key/value\n",
    "for key in sorted(dict.keys()):\n",
    "    print key, dict[key]\n",
    "\n",
    "## .items() is the dict expressed as (key, value) tuples\n",
    "print dict.items()  ##  [('a', 'alpha_new Value'), ('b', 'beta'), ('o', 'omega'), ('g', 'gamma')]"
   ]
  },
  {
   "cell_type": "code",
   "execution_count": null,
   "metadata": {
    "collapsed": true
   },
   "outputs": [],
   "source": []
  }
 ],
 "metadata": {
  "kernelspec": {
   "display_name": "Python 2",
   "language": "python",
   "name": "python2"
  },
  "language_info": {
   "codemirror_mode": {
    "name": "ipython",
    "version": 2
   },
   "file_extension": ".py",
   "mimetype": "text/x-python",
   "name": "python",
   "nbconvert_exporter": "python",
   "pygments_lexer": "ipython2",
   "version": "2.7.10"
  }
 },
 "nbformat": 4,
 "nbformat_minor": 0
}
